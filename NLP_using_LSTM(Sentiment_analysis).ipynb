{
  "nbformat": 4,
  "nbformat_minor": 0,
  "metadata": {
    "colab": {
      "name": "NLP using LSTM(Sentiment analysis)",
      "provenance": []
    },
    "kernelspec": {
      "name": "python3",
      "display_name": "Python 3"
    },
    "accelerator": "TPU"
  },
  "cells": [
    {
      "cell_type": "code",
      "metadata": {
        "id": "PbvQaM-Jc25a",
        "colab_type": "code",
        "colab": {
          "base_uri": "https://localhost:8080/",
          "height": 74
        },
        "outputId": "df4b7690-9e74-4081-e849-9bd2ef01f73c"
      },
      "source": [
        "#basic imports \n",
        "import pandas as pd\n",
        "import numpy as np\n",
        "import matplotlib.pyplot as plt\n",
        "import seaborn as sns \n",
        "import scipy\n",
        "%matplotlib inline"
      ],
      "execution_count": 1,
      "outputs": [
        {
          "output_type": "stream",
          "text": [
            "/usr/local/lib/python3.6/dist-packages/statsmodels/tools/_testing.py:19: FutureWarning: pandas.util.testing is deprecated. Use the functions in the public API at pandas.testing instead.\n",
            "  import pandas.util.testing as tm\n"
          ],
          "name": "stderr"
        }
      ]
    },
    {
      "cell_type": "code",
      "metadata": {
        "id": "3Xm49RrbdR42",
        "colab_type": "code",
        "colab": {}
      },
      "source": [
        "train=pd.read_csv(\"train.csv\",header=None,names=[\"text\",\"emotion\"],sep=\";\")\n",
        "test=pd.read_csv(\"test.csv\",header=None,names=[\"text\",\"emotion\"],sep=\";\")"
      ],
      "execution_count": 2,
      "outputs": []
    },
    {
      "cell_type": "code",
      "metadata": {
        "id": "JZOqvUTUd1vB",
        "colab_type": "code",
        "colab": {
          "base_uri": "https://localhost:8080/",
          "height": 198
        },
        "outputId": "cde9ef4c-5151-450a-da4e-4783cb928044"
      },
      "source": [
        "train.head()"
      ],
      "execution_count": 3,
      "outputs": [
        {
          "output_type": "execute_result",
          "data": {
            "text/html": [
              "<div>\n",
              "<style scoped>\n",
              "    .dataframe tbody tr th:only-of-type {\n",
              "        vertical-align: middle;\n",
              "    }\n",
              "\n",
              "    .dataframe tbody tr th {\n",
              "        vertical-align: top;\n",
              "    }\n",
              "\n",
              "    .dataframe thead th {\n",
              "        text-align: right;\n",
              "    }\n",
              "</style>\n",
              "<table border=\"1\" class=\"dataframe\">\n",
              "  <thead>\n",
              "    <tr style=\"text-align: right;\">\n",
              "      <th></th>\n",
              "      <th>text</th>\n",
              "      <th>emotion</th>\n",
              "    </tr>\n",
              "  </thead>\n",
              "  <tbody>\n",
              "    <tr>\n",
              "      <th>0</th>\n",
              "      <td>i didnt feel humiliated</td>\n",
              "      <td>sadness</td>\n",
              "    </tr>\n",
              "    <tr>\n",
              "      <th>1</th>\n",
              "      <td>i can go from feeling so hopeless to so damned...</td>\n",
              "      <td>sadness</td>\n",
              "    </tr>\n",
              "    <tr>\n",
              "      <th>2</th>\n",
              "      <td>im grabbing a minute to post i feel greedy wrong</td>\n",
              "      <td>anger</td>\n",
              "    </tr>\n",
              "    <tr>\n",
              "      <th>3</th>\n",
              "      <td>i am ever feeling nostalgic about the fireplac...</td>\n",
              "      <td>love</td>\n",
              "    </tr>\n",
              "    <tr>\n",
              "      <th>4</th>\n",
              "      <td>i am feeling grouchy</td>\n",
              "      <td>anger</td>\n",
              "    </tr>\n",
              "  </tbody>\n",
              "</table>\n",
              "</div>"
            ],
            "text/plain": [
              "                                                text  emotion\n",
              "0                            i didnt feel humiliated  sadness\n",
              "1  i can go from feeling so hopeless to so damned...  sadness\n",
              "2   im grabbing a minute to post i feel greedy wrong    anger\n",
              "3  i am ever feeling nostalgic about the fireplac...     love\n",
              "4                               i am feeling grouchy    anger"
            ]
          },
          "metadata": {
            "tags": []
          },
          "execution_count": 3
        }
      ]
    },
    {
      "cell_type": "code",
      "metadata": {
        "id": "zSF2Plqg_hXr",
        "colab_type": "code",
        "colab": {
          "base_uri": "https://localhost:8080/",
          "height": 298
        },
        "outputId": "f9ed6b7e-87d4-465c-f0ac-3e1234a7bb73"
      },
      "source": [
        "#Count plot of emotions \n",
        "sns.countplot(train.emotion)"
      ],
      "execution_count": 55,
      "outputs": [
        {
          "output_type": "execute_result",
          "data": {
            "text/plain": [
              "<matplotlib.axes._subplots.AxesSubplot at 0x7f39f41a0a20>"
            ]
          },
          "metadata": {
            "tags": []
          },
          "execution_count": 55
        },
        {
          "output_type": "display_data",
          "data": {
            "image/png": "[encoded data removed]",
            "text/plain": [
              "<Figure size 432x288 with 1 Axes>"
            ]
          },
          "metadata": {
            "tags": [],
            "needs_background": "light"
          }
        }
      ]
    },
    {
      "cell_type": "code",
      "metadata": {
        "id": "9WHSHIoK_mGc",
        "colab_type": "code",
        "colab": {
          "base_uri": "https://localhost:8080/",
          "height": 297
        },
        "outputId": "0156fea7-9203-4379-c931-f0c435f469f8"
      },
      "source": [
        "sns.countplot(test.emotion)"
      ],
      "execution_count": 56,
      "outputs": [
        {
          "output_type": "execute_result",
          "data": {
            "text/plain": [
              "<matplotlib.axes._subplots.AxesSubplot at 0x7f39f40c8e48>"
            ]
          },
          "metadata": {
            "tags": []
          },
          "execution_count": 56
        },
        {
          "output_type": "display_data",
          "data": {
            "image/png": "[encoded data removed]",
            "text/plain": [
              "<Figure size 432x288 with 1 Axes>"
            ]
          },
          "metadata": {
            "tags": [],
            "needs_background": "light"
          }
        }
      ]
    },
    {
      "cell_type": "code",
      "metadata": {
        "id": "2du1JarBeACO",
        "colab_type": "code",
        "colab": {
          "base_uri": "https://localhost:8080/",
          "height": 90
        },
        "outputId": "0493a48f-c54b-4595-f485-ec9de39301cb"
      },
      "source": [
        "import re\n",
        "import nltk\n",
        "from nltk.corpus import stopwords\n",
        "from nltk.stem import WordNetLemmatizer\n",
        "nltk.download('stopwords')\n",
        "nltk.download('wordnet')\n",
        "Lemmatizer=WordNetLemmatizer()"
      ],
      "execution_count": 6,
      "outputs": [
        {
          "output_type": "stream",
          "text": [
            "[nltk_data] Downloading package stopwords to /root/nltk_data...\n",
            "[nltk_data]   Package stopwords is already up-to-date!\n",
            "[nltk_data] Downloading package wordnet to /root/nltk_data...\n",
            "[nltk_data]   Unzipping corpora/wordnet.zip.\n"
          ],
          "name": "stdout"
        }
      ]
    },
    {
      "cell_type": "code",
      "metadata": {
        "id": "e9aPLgkQeIrM",
        "colab_type": "code",
        "colab": {}
      },
      "source": [
        "corpus_train=[]\n",
        "for i in range(len(train.text)):\n",
        "    word=re.sub(\"[^a-zA-Z]\",\" \",train.text[i])\n",
        "    word=word.lower()\n",
        "    word=word.split()\n",
        "    word=[Lemmatizer.lemmatize(words) for words in word if words not in set(stopwords.words(\"english\"))]\n",
        "    word=\" \".join(word)\n",
        "    corpus_train.append(word)"
      ],
      "execution_count": 7,
      "outputs": []
    },
    {
      "cell_type": "code",
      "metadata": {
        "id": "fUto1geYeRhw",
        "colab_type": "code",
        "colab": {}
      },
      "source": [
        "corpus_test=[]\n",
        "for i in range(len(test.text)):\n",
        "    word=re.sub(\"[^a-zA-Z]\",\" \",test.text[i])\n",
        "    word=word.lower()\n",
        "    word=word.split()\n",
        "    word=[Lemmatizer.lemmatize(words) for words in word if words not in set(stopwords.words(\"english\"))]\n",
        "    word=\" \".join(word)\n",
        "    corpus_test.append(word)"
      ],
      "execution_count": 8,
      "outputs": []
    },
    {
      "cell_type": "code",
      "metadata": {
        "id": "IMko5o7pfts9",
        "colab_type": "code",
        "colab": {}
      },
      "source": [
        "from sklearn.preprocessing import LabelEncoder\n",
        "from keras.utils.np_utils import to_categorical\n",
        "encode=LabelEncoder()"
      ],
      "execution_count": 9,
      "outputs": []
    },
    {
      "cell_type": "code",
      "metadata": {
        "id": "WzqEDBQtgOTA",
        "colab_type": "code",
        "colab": {}
      },
      "source": [
        "label_train=encode.fit_transform(train.emotion)\n",
        "label_test=encode.transform(test.emotion)"
      ],
      "execution_count": 17,
      "outputs": []
    },
    {
      "cell_type": "code",
      "metadata": {
        "id": "n8f9T50usFnO",
        "colab_type": "code",
        "colab": {}
      },
      "source": [
        "Y_test=to_categorical(label_test)\n",
        "Y_train=to_categorical(label_train)"
      ],
      "execution_count": 19,
      "outputs": []
    },
    {
      "cell_type": "code",
      "metadata": {
        "id": "TJTc2Lyx5xbR",
        "colab_type": "code",
        "colab": {
          "base_uri": "https://localhost:8080/",
          "height": 54
        },
        "outputId": "ce7003a8-c99d-46d0-b0ed-bf240cf0c051"
      },
      "source": [
        "encode.classes_"
      ],
      "execution_count": 18,
      "outputs": [
        {
          "output_type": "execute_result",
          "data": {
            "text/plain": [
              "array(['anger', 'fear', 'joy', 'love', 'sadness', 'surprise'],\n",
              "      dtype=object)"
            ]
          },
          "metadata": {
            "tags": []
          },
          "execution_count": 18
        }
      ]
    },
    {
      "cell_type": "code",
      "metadata": {
        "id": "kLT7kbvwg-cP",
        "colab_type": "code",
        "colab": {}
      },
      "source": [
        "from keras.models import Sequential\n",
        "from keras.layers import Dense,LSTM,Embedding,SpatialDropout1D\n",
        "from keras.preprocessing.text import Tokenizer\n",
        "from keras_preprocessing.sequence import pad_sequences"
      ],
      "execution_count": 21,
      "outputs": []
    },
    {
      "cell_type": "markdown",
      "metadata": {
        "id": "MF8zrDWcCA9I",
        "colab_type": "text"
      },
      "source": [
        "Let's use tokenizer for our data"
      ]
    },
    {
      "cell_type": "code",
      "metadata": {
        "id": "mubqgbD-jl37",
        "colab_type": "code",
        "colab": {
          "base_uri": "https://localhost:8080/",
          "height": 35
        },
        "outputId": "86d70c00-523d-4c94-b68d-5d4e4733b66b"
      },
      "source": [
        "max_no = 50000\n",
        "seq_len = 100\n",
        "embed_dim = 100\n",
        "tokenizer = Tokenizer(num_words=max_no, filters='!\"#$%&()*+,-./:;<=>?@[\\]^_`{|}~', lower=True)\n",
        "tokenizer.fit_on_texts(train.text.values)\n",
        "word_index = tokenizer.word_index\n",
        "print('Found %s unique tokens.' % len(word_index))"
      ],
      "execution_count": 22,
      "outputs": [
        {
          "output_type": "stream",
          "text": [
            "Found 11999 unique tokens.\n"
          ],
          "name": "stdout"
        }
      ]
    },
    {
      "cell_type": "code",
      "metadata": {
        "id": "WgF-mg2jhQCL",
        "colab_type": "code",
        "colab": {}
      },
      "source": [
        "X = tokenizer.texts_to_sequences(train.text.values)\n",
        "X_train = pad_sequences(X, maxlen=seq_len)"
      ],
      "execution_count": 23,
      "outputs": []
    },
    {
      "cell_type": "code",
      "metadata": {
        "id": "V4H_sXvTih1z",
        "colab_type": "code",
        "colab": {}
      },
      "source": [
        "X=tokenizer.texts_to_sequences(test.text.values)\n",
        "X_test = pad_sequences(X, maxlen=seq_len)"
      ],
      "execution_count": 24,
      "outputs": []
    },
    {
      "cell_type": "code",
      "metadata": {
        "id": "IEzWJTDcliM8",
        "colab_type": "code",
        "colab": {
          "base_uri": "https://localhost:8080/",
          "height": 217
        },
        "outputId": "3435380b-9d24-4764-bafb-cf030fe6af3f"
      },
      "source": [
        "model = Sequential()\n",
        "model.add(Embedding(max_no, embed_dim, input_length=X_train.shape[1]))\n",
        "model.add(SpatialDropout1D(0.2))\n",
        "model.add(LSTM(100, dropout=0.2, recurrent_dropout=0.2))\n",
        "model.add(Dense(100,activation=\"relu\"))\n",
        "model.add(Dense(6, activation='softmax'))\n",
        "model.compile(loss='categorical_crossentropy', optimizer='adam', metrics=['accuracy'])\n",
        "\n",
        "epochs = 5\n",
        "batch_size = 128\n",
        "\n",
        "model.fit(X_train,Y_train,epochs=epochs,batch_size=batch_size,validation_data=(X_test,Y_test),verbose=1)"
      ],
      "execution_count": 25,
      "outputs": [
        {
          "output_type": "stream",
          "text": [
            "Epoch 1/5\n",
            "79/79 [==============================] - 37s 468ms/step - loss: 1.5943 - accuracy: 0.3414 - val_loss: 1.5269 - val_accuracy: 0.3475\n",
            "Epoch 2/5\n",
            "79/79 [==============================] - 37s 467ms/step - loss: 1.1837 - accuracy: 0.5483 - val_loss: 0.8082 - val_accuracy: 0.7220\n",
            "Epoch 3/5\n",
            "79/79 [==============================] - 37s 469ms/step - loss: 0.5238 - accuracy: 0.8132 - val_loss: 0.5256 - val_accuracy: 0.8145\n",
            "Epoch 4/5\n",
            "79/79 [==============================] - 38s 476ms/step - loss: 0.2624 - accuracy: 0.9149 - val_loss: 0.4298 - val_accuracy: 0.8570\n",
            "Epoch 5/5\n",
            "79/79 [==============================] - 37s 471ms/step - loss: 0.1408 - accuracy: 0.9562 - val_loss: 0.4132 - val_accuracy: 0.8685\n"
          ],
          "name": "stdout"
        },
        {
          "output_type": "execute_result",
          "data": {
            "text/plain": [
              "<tensorflow.python.keras.callbacks.History at 0x7f3a046d7668>"
            ]
          },
          "metadata": {
            "tags": []
          },
          "execution_count": 25
        }
      ]
    },
    {
      "cell_type": "code",
      "metadata": {
        "id": "CW3geW696-AZ",
        "colab_type": "code",
        "colab": {
          "base_uri": "https://localhost:8080/",
          "height": 217
        },
        "outputId": "56d024c8-a231-46d3-a04f-9f07390c2dca"
      },
      "source": [
        "model.fit(X_train,Y_train,epochs=10,batch_size=batch_size,validation_data=(X_test,Y_test),verbose=1,initial_epoch=5)"
      ],
      "execution_count": 26,
      "outputs": [
        {
          "output_type": "stream",
          "text": [
            "Epoch 6/10\n",
            "79/79 [==============================] - 37s 471ms/step - loss: 0.0946 - accuracy: 0.9713 - val_loss: 0.4190 - val_accuracy: 0.8635\n",
            "Epoch 7/10\n",
            "79/79 [==============================] - 37s 472ms/step - loss: 0.0675 - accuracy: 0.9787 - val_loss: 0.4586 - val_accuracy: 0.8705\n",
            "Epoch 8/10\n",
            "79/79 [==============================] - 37s 468ms/step - loss: 0.0561 - accuracy: 0.9828 - val_loss: 0.4317 - val_accuracy: 0.8710\n",
            "Epoch 9/10\n",
            "79/79 [==============================] - 37s 469ms/step - loss: 0.0538 - accuracy: 0.9827 - val_loss: 0.4755 - val_accuracy: 0.8670\n",
            "Epoch 10/10\n",
            "79/79 [==============================] - 37s 472ms/step - loss: 0.0409 - accuracy: 0.9864 - val_loss: 0.4589 - val_accuracy: 0.8720\n"
          ],
          "name": "stdout"
        },
        {
          "output_type": "execute_result",
          "data": {
            "text/plain": [
              "<tensorflow.python.keras.callbacks.History at 0x7f39fad84c18>"
            ]
          },
          "metadata": {
            "tags": []
          },
          "execution_count": 26
        }
      ]
    },
    {
      "cell_type": "code",
      "metadata": {
        "id": "wGGXZIXY7zcz",
        "colab_type": "code",
        "colab": {}
      },
      "source": [
        "accuracy=model.history.history[\"accuracy\"]\n",
        "loss=model.history.history[\"loss\"]\n",
        "val_loss=model.history.history[\"val_loss\"]\n",
        "val_accuracy=model.history.history[\"val_accuracy\"]"
      ],
      "execution_count": 32,
      "outputs": []
    },
    {
      "cell_type": "code",
      "metadata": {
        "id": "OTGF9HKA9Ny1",
        "colab_type": "code",
        "colab": {
          "base_uri": "https://localhost:8080/",
          "height": 35
        },
        "outputId": "d6ab14f6-2b24-41a9-e8e9-f6b0df7f3d80"
      },
      "source": [
        "len(accuracy)"
      ],
      "execution_count": 34,
      "outputs": [
        {
          "output_type": "execute_result",
          "data": {
            "text/plain": [
              "5"
            ]
          },
          "metadata": {
            "tags": []
          },
          "execution_count": 34
        }
      ]
    },
    {
      "cell_type": "code",
      "metadata": {
        "id": "SeR-jtwb76OV",
        "colab_type": "code",
        "colab": {
          "base_uri": "https://localhost:8080/",
          "height": 551
        },
        "outputId": "2fa24b86-daf7-4383-f7c8-731f77490d43"
      },
      "source": [
        "sns.lineplot(range(6,11),accuracy) #plotting of accuracy\n",
        "plt.xlabel(\"epochs->\",fontsize=15)\n",
        "plt.ylabel(\"accuracy->\",fontsize=15)\n",
        "plt.show()\n",
        "sns.lineplot(range(6,11),val_accuracy) #plotting of val_accuracy\n",
        "plt.xlabel(\"epochs->\",fontsize=15)\n",
        "plt.ylabel(\"val_accuracy->\",fontsize=15)\n",
        "plt.show()"
      ],
      "execution_count": 63,
      "outputs": [
        {
          "output_type": "display_data",
          "data": {
            "image/png": "[encoded data removed]",
            "text/plain": [
              "<Figure size 432x288 with 1 Axes>"
            ]
          },
          "metadata": {
            "tags": [],
            "needs_background": "light"
          }
        },
        {
          "output_type": "display_data",
          "data": {
            "image/png": "[encoded data removed]",
            "text/plain": [
              "<Figure size 432x288 with 1 Axes>"
            ]
          },
          "metadata": {
            "tags": [],
            "needs_background": "light"
          }
        }
      ]
    },
    {
      "cell_type": "code",
      "metadata": {
        "id": "bFjs7jZo9lq-",
        "colab_type": "code",
        "colab": {
          "base_uri": "https://localhost:8080/",
          "height": 551
        },
        "outputId": "0ea92f85-7de9-44a0-bbbd-791c14853fe5"
      },
      "source": [
        "sns.lineplot(range(6,11),loss) #plotting of loss\n",
        "plt.xlabel(\"epochs\",fontsize=15)\n",
        "plt.ylabel(\"loss->\",fontsize=15)\n",
        "plt.show()\n",
        "sns.lineplot(range(6,11),val_loss)#plotting of val_loss\n",
        "plt.xlabel(\"epochs\",fontsize=15)\n",
        "plt.ylabel(\"val_loss->\",fontsize=15)\n",
        "plt.show()"
      ],
      "execution_count": 64,
      "outputs": [
        {
          "output_type": "display_data",
          "data": {
            "image/png": "[encoded data removed]",
            "text/plain": [
              "<Figure size 432x288 with 1 Axes>"
            ]
          },
          "metadata": {
            "tags": [],
            "needs_background": "light"
          }
        },
        {
          "output_type": "display_data",
          "data": {
            "image/png": "[encoded data removed]",
            "text/plain": [
              "<Figure size 432x288 with 1 Axes>"
            ]
          },
          "metadata": {
            "tags": [],
            "needs_background": "light"
          }
        }
      ]
    },
    {
      "cell_type": "code",
      "metadata": {
        "id": "tT_7NHx4Dcuq",
        "colab_type": "code",
        "colab": {
          "base_uri": "https://localhost:8080/",
          "height": 297
        },
        "outputId": "7a49ed27-50fa-40f7-972b-af681f56ca5d"
      },
      "source": [
        "sns.lineplot(accuracy,loss)\n",
        "plt.xlabel(\"accuracy->\")\n",
        "plt.ylabel(\"loss->\")"
      ],
      "execution_count": 67,
      "outputs": [
        {
          "output_type": "execute_result",
          "data": {
            "text/plain": [
              "Text(0, 0.5, 'loss->')"
            ]
          },
          "metadata": {
            "tags": []
          },
          "execution_count": 67
        },
        {
          "output_type": "display_data",
          "data": {
            "image/png": "[encoded data removed]",
            "text/plain": [
              "<Figure size 432x288 with 1 Axes>"
            ]
          },
          "metadata": {
            "tags": [],
            "needs_background": "light"
          }
        }
      ]
    },
    {
      "cell_type": "code",
      "metadata": {
        "id": "0uexBiohmeUl",
        "colab_type": "code",
        "colab": {}
      },
      "source": [
        "pred=model.predict_classes(X_test)"
      ],
      "execution_count": 47,
      "outputs": []
    },
    {
      "cell_type": "code",
      "metadata": {
        "id": "snKH8wA1miRp",
        "colab_type": "code",
        "colab": {}
      },
      "source": [
        "model.save(\"model.h5\",save_format=\"h5\")"
      ],
      "execution_count": null,
      "outputs": []
    },
    {
      "cell_type": "code",
      "metadata": {
        "id": "hO70ssr6qc-h",
        "colab_type": "code",
        "colab": {
          "base_uri": "https://localhost:8080/",
          "height": 283
        },
        "outputId": "020db7d0-8414-4334-be46-21d2e367bfe5"
      },
      "source": [
        "from sklearn.metrics import confusion_matrix\n",
        "import seaborn as sns\n",
        "sns.heatmap(confusion_matrix(pred,label_test),annot=True,fmt=\"\")"
      ],
      "execution_count": 48,
      "outputs": [
        {
          "output_type": "execute_result",
          "data": {
            "text/plain": [
              "<matplotlib.axes._subplots.AxesSubplot at 0x7f39f5d4d358>"
            ]
          },
          "metadata": {
            "tags": []
          },
          "execution_count": 48
        },
        {
          "output_type": "display_data",
          "data": {
            "image/png": "[encoded data removed]",
            "text/plain": [
              "<Figure size 432x288 with 2 Axes>"
            ]
          },
          "metadata": {
            "tags": [],
            "needs_background": "light"
          }
        }
      ]
    },
    {
      "cell_type": "code",
      "metadata": {
        "id": "8CbI7Lv0rTF_",
        "colab_type": "code",
        "colab": {
          "base_uri": "https://localhost:8080/",
          "height": 54
        },
        "outputId": "3b8810f9-87a8-4025-a40a-8130d2df8739"
      },
      "source": [
        "encode.classes_"
      ],
      "execution_count": 68,
      "outputs": [
        {
          "output_type": "execute_result",
          "data": {
            "text/plain": [
              "array(['anger', 'fear', 'joy', 'love', 'sadness', 'surprise'],\n",
              "      dtype=object)"
            ]
          },
          "metadata": {
            "tags": []
          },
          "execution_count": 68
        }
      ]
    },
    {
      "cell_type": "code",
      "metadata": {
        "id": "M0hrZR8grg0j",
        "colab_type": "code",
        "colab": {}
      },
      "source": [
        "#its better to store this dict\n",
        "dict={'anger':0, 'fear':1, 'joy':2, 'love':3, 'sadness':4,'surprise':5}"
      ],
      "execution_count": 69,
      "outputs": []
    },
    {
      "cell_type": "code",
      "metadata": {
        "id": "e9ykw8xJ-fI7",
        "colab_type": "code",
        "colab": {
          "base_uri": "https://localhost:8080/",
          "height": 35
        },
        "outputId": "097adf52-9e43-4ab8-a37a-3a333b0860a9"
      },
      "source": [
        "len(pred)"
      ],
      "execution_count": 46,
      "outputs": [
        {
          "output_type": "execute_result",
          "data": {
            "text/plain": [
              "2000"
            ]
          },
          "metadata": {
            "tags": []
          },
          "execution_count": 46
        }
      ]
    },
    {
      "cell_type": "code",
      "metadata": {
        "id": "Fi9qtYid-i0b",
        "colab_type": "code",
        "colab": {
          "base_uri": "https://localhost:8080/",
          "height": 54
        },
        "outputId": "21752742-1af8-4313-d480-ef3635899ebc"
      },
      "source": [
        "model.evaluate(X_test,Y_test)"
      ],
      "execution_count": 54,
      "outputs": [
        {
          "output_type": "stream",
          "text": [
            "63/63 [==============================] - 2s 27ms/step - loss: 0.4589 - accuracy: 0.8720\n"
          ],
          "name": "stdout"
        },
        {
          "output_type": "execute_result",
          "data": {
            "text/plain": [
              "[0.4588783085346222, 0.871999979019165]"
            ]
          },
          "metadata": {
            "tags": []
          },
          "execution_count": 54
        }
      ]
    },
    {
      "cell_type": "code",
      "metadata": {
        "id": "jDQEpJzZ_688",
        "colab_type": "code",
        "colab": {
          "base_uri": "https://localhost:8080/",
          "height": 254
        },
        "outputId": "4656474c-b73c-4f70-c7c2-f587d1d76b71"
      },
      "source": [
        "from sklearn.metrics import classification_report\n",
        "print(classification_report(pred,label_test))"
      ],
      "execution_count": 58,
      "outputs": [
        {
          "output_type": "stream",
          "text": [
            "              precision    recall  f1-score   support\n",
            "\n",
            "           0       0.88      0.87      0.88       280\n",
            "           1       0.88      0.85      0.86       232\n",
            "           2       0.89      0.91      0.90       678\n",
            "           3       0.76      0.65      0.70       185\n",
            "           4       0.90      0.94      0.92       560\n",
            "           5       0.61      0.62      0.61        65\n",
            "\n",
            "    accuracy                           0.87      2000\n",
            "   macro avg       0.82      0.81      0.81      2000\n",
            "weighted avg       0.87      0.87      0.87      2000\n",
            "\n"
          ],
          "name": "stdout"
        }
      ]
    },
    {
      "cell_type": "code",
      "metadata": {
        "id": "KYp-l587ADaB",
        "colab_type": "code",
        "colab": {}
      },
      "source": [
        ""
      ],
      "execution_count": null,
      "outputs": []
    }
  ]
}